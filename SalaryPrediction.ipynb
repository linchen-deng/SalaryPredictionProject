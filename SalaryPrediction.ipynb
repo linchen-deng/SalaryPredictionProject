{
 "cells": [
  {
   "cell_type": "markdown",
   "metadata": {},
   "source": [
    "# Salary Predictions Based on Job Descriptions"
   ]
  },
  {
   "cell_type": "markdown",
   "metadata": {},
   "source": [
    "# Part 1 - DEFINE"
   ]
  },
  {
   "cell_type": "markdown",
   "metadata": {},
   "source": [
    "### ---- 1 Define the problem ----"
   ]
  },
  {
   "cell_type": "markdown",
   "metadata": {},
   "source": [
    "There are many features embedded in job descriptions. Is there any association betweeen the job description and salary? If so, what are the important features? "
   ]
  },
  {
   "cell_type": "code",
   "execution_count": 1,
   "metadata": {},
   "outputs": [],
   "source": [
    "#import your libraries\n",
    "import pandas as pd\n",
    "import sklearn as sk\n",
    "#etc\n",
    "\n",
    "#your info here\n",
    "__author__ = \"Linchen Deng\"\n",
    "__email__ = \"linchen_deng@brown.edu\""
   ]
  },
  {
   "cell_type": "markdown",
   "metadata": {},
   "source": [
    "## Part 2 - DISCOVER"
   ]
  },
  {
   "cell_type": "markdown",
   "metadata": {},
   "source": [
    "### ---- 2 Load the data ----"
   ]
  },
  {
   "cell_type": "code",
   "execution_count": 2,
   "metadata": {},
   "outputs": [],
   "source": [
    "#load the data into a Pandas dataframe\n",
    "train_X = pd.read_csv(\"data/train_features.csv\")\n",
    "train_y = pd.read_csv(\"data/train_salaries.csv\")\n",
    "test_X = pd.read_csv(\"data/test_features.csv\")"
   ]
  },
  {
   "cell_type": "markdown",
   "metadata": {},
   "source": [
    "### ---- 3 Clean the data ----"
   ]
  },
  {
   "cell_type": "code",
   "execution_count": null,
   "metadata": {},
   "outputs": [],
   "source": [
    "# Take a look at the training data\n",
    "train_X.head()"
   ]
  },
  {
   "cell_type": "code",
   "execution_count": null,
   "metadata": {},
   "outputs": [],
   "source": [
    "#look for duplicate data, invalid data (e.g. salaries <=0), or corrupt data and remove it\n",
    "print(train_X.shape)\n",
    "print(train_X.info())"
   ]
  },
  {
   "cell_type": "code",
   "execution_count": null,
   "metadata": {},
   "outputs": [],
   "source": [
    "print(train_y.shape)\n",
    "print(train_y.info())"
   ]
  },
  {
   "cell_type": "code",
   "execution_count": null,
   "metadata": {},
   "outputs": [],
   "source": [
    "# There is no NAs in the training data \n",
    "train_X.isnull().any()"
   ]
  },
  {
   "cell_type": "code",
   "execution_count": null,
   "metadata": {},
   "outputs": [],
   "source": [
    "# There is no duplicated row in the training data\n",
    "train_X[train_X.duplicated()]"
   ]
  },
  {
   "cell_type": "code",
   "execution_count": 3,
   "metadata": {},
   "outputs": [
    {
     "data": {
      "text/html": [
       "<div>\n",
       "<style scoped>\n",
       "    .dataframe tbody tr th:only-of-type {\n",
       "        vertical-align: middle;\n",
       "    }\n",
       "\n",
       "    .dataframe tbody tr th {\n",
       "        vertical-align: top;\n",
       "    }\n",
       "\n",
       "    .dataframe thead th {\n",
       "        text-align: right;\n",
       "    }\n",
       "</style>\n",
       "<table border=\"1\" class=\"dataframe\">\n",
       "  <thead>\n",
       "    <tr style=\"text-align: right;\">\n",
       "      <th></th>\n",
       "      <th>jobId</th>\n",
       "      <th>salary</th>\n",
       "    </tr>\n",
       "  </thead>\n",
       "  <tbody>\n",
       "    <tr>\n",
       "      <th>30559</th>\n",
       "      <td>JOB1362684438246</td>\n",
       "      <td>0</td>\n",
       "    </tr>\n",
       "    <tr>\n",
       "      <th>495984</th>\n",
       "      <td>JOB1362684903671</td>\n",
       "      <td>0</td>\n",
       "    </tr>\n",
       "    <tr>\n",
       "      <th>652076</th>\n",
       "      <td>JOB1362685059763</td>\n",
       "      <td>0</td>\n",
       "    </tr>\n",
       "    <tr>\n",
       "      <th>816129</th>\n",
       "      <td>JOB1362685223816</td>\n",
       "      <td>0</td>\n",
       "    </tr>\n",
       "    <tr>\n",
       "      <th>828156</th>\n",
       "      <td>JOB1362685235843</td>\n",
       "      <td>0</td>\n",
       "    </tr>\n",
       "  </tbody>\n",
       "</table>\n",
       "</div>"
      ],
      "text/plain": [
       "                   jobId  salary\n",
       "30559   JOB1362684438246       0\n",
       "495984  JOB1362684903671       0\n",
       "652076  JOB1362685059763       0\n",
       "816129  JOB1362685223816       0\n",
       "828156  JOB1362685235843       0"
      ]
     },
     "execution_count": 3,
     "metadata": {},
     "output_type": "execute_result"
    }
   ],
   "source": [
    "# Check non-positive salaries\n",
    "wrong_salary_rows = train_y[\"salary\"]<=0\n",
    "train_y[wrong_salary_rows]"
   ]
  },
  {
   "cell_type": "code",
   "execution_count": 4,
   "metadata": {},
   "outputs": [],
   "source": [
    "# remove rows with zero salaries in the training data\n",
    "train_X.drop(train_X[wrong_salary_rows].index, inplace=True)\n",
    "train_y.drop(train_y[wrong_salary_rows].index, inplace=True)"
   ]
  },
  {
   "cell_type": "markdown",
   "metadata": {},
   "source": [
    "### ---- 4 Explore the data (EDA) ----"
   ]
  },
  {
   "cell_type": "code",
   "execution_count": null,
   "metadata": {},
   "outputs": [],
   "source": [
    "#summarize numeric features\n",
    "train_X.describe()"
   ]
  },
  {
   "cell_type": "code",
   "execution_count": null,
   "metadata": {},
   "outputs": [],
   "source": [
    "# Counts of levels in each categorical feature \n",
    "print(train_X.jobType.value_counts().plot())\n",
    "print(train_X.degree.value_counts())\n",
    "print(train_X.major.value_counts())\n",
    "print(train_X.industry.value_counts())"
   ]
  },
  {
   "cell_type": "code",
   "execution_count": null,
   "metadata": {},
   "outputs": [],
   "source": [
    "#summarize the target variable\n",
    "train_y.describe()"
   ]
  },
  {
   "cell_type": "code",
   "execution_count": 5,
   "metadata": {},
   "outputs": [],
   "source": [
    "# combine features and salaries for visualizations\n",
    "train_combined = pd.merge(left=train_X,right=train_y, left_on='jobId', right_on='jobId')"
   ]
  },
  {
   "cell_type": "code",
   "execution_count": null,
   "metadata": {},
   "outputs": [],
   "source": [
    "#look for correlation between each feature and the target\n",
    "train_combined.dtypes"
   ]
  },
  {
   "cell_type": "code",
   "execution_count": 6,
   "metadata": {},
   "outputs": [],
   "source": [
    "def barplot_categorical(data, variable_x):\n",
    "    ordered_category = data.groupby(variable_x).salary.mean().sort_values(ascending=False).index\n",
    "    ax = sns.barplot(x=\"salary\",y=variable_x,data=data, order=ordered_category)\n",
    "    return ordered_category"
   ]
  },
  {
   "cell_type": "markdown",
   "metadata": {},
   "source": [
    "#### Job Type and Salary\n",
    "On average, CEO makes more salary than CTO and CFO; Manager makes more than senior, which is more than junior; Janitor makes the least."
   ]
  },
  {
   "cell_type": "code",
   "execution_count": 7,
   "metadata": {},
   "outputs": [],
   "source": [
    "import seaborn as sns\n",
    "jobType_order = barplot_categorical(train_combined, \"jobType\")"
   ]
  },
  {
   "cell_type": "markdown",
   "metadata": {},
   "source": [
    "#### Degree and Salary\n",
    "On average, phD > Masters > Bachelors > High School > None(categorized as below high school)\n",
    "The salary gap between a high school and a Bachelor's degree is 4 times higher than the difference either between Bachelor's and Master's or Master's and phD.  "
   ]
  },
  {
   "cell_type": "code",
   "execution_count": 8,
   "metadata": {},
   "outputs": [
    {
     "data": {
      "text/plain": [
       "degree\n",
       "BACHELORS      125.454663\n",
       "DOCTORAL       135.490979\n",
       "HIGH_SCHOOL    101.921085\n",
       "MASTERS        130.505647\n",
       "NONE            98.176882\n",
       "Name: salary, dtype: float64"
      ]
     },
     "execution_count": 8,
     "metadata": {},
     "output_type": "execute_result"
    }
   ],
   "source": [
    "train_combined.groupby(\"degree\").salary.mean()"
   ]
  },
  {
   "cell_type": "code",
   "execution_count": 9,
   "metadata": {},
   "outputs": [
    {
     "data": {
      "image/png": "[encoded data removed]",
      "text/plain": [
       "<Figure size 432x288 with 1 Axes>"
      ]
     },
     "metadata": {
      "needs_background": "light"
     },
     "output_type": "display_data"
    }
   ],
   "source": [
    "degree_order = barplot_categorical(train_combined, \"degree\")"
   ]
  },
  {
   "cell_type": "markdown",
   "metadata": {},
   "source": [
    "#### major and salary\n",
    "Engineering, business, math, computer science (Practical and Generally Appliable majors) have higher salaries than physics, chemistry, biology, literature (Basic sciences and Art majors). "
   ]
  },
  {
   "cell_type": "code",
   "execution_count": 10,
   "metadata": {},
   "outputs": [
    {
     "data": {
      "image/png": "[encoded data removed]",
      "text/plain": [
       "<Figure size 432x288 with 1 Axes>"
      ]
     },
     "metadata": {
      "needs_background": "light"
     },
     "output_type": "display_data"
    }
   ],
   "source": [
    "major_order = barplot_categorical(train_combined, \"major\")"
   ]
  },
  {
   "cell_type": "markdown",
   "metadata": {},
   "source": [
    "#### industry and salary\n",
    "Oil and finance industry have higher salary than web, health, auto industry, higher than service and education industry."
   ]
  },
  {
   "cell_type": "code",
   "execution_count": 11,
   "metadata": {},
   "outputs": [
    {
     "data": {
      "image/png": "[encoded data removed]",
      "text/plain": [
       "<Figure size 432x288 with 1 Axes>"
      ]
     },
     "metadata": {
      "needs_background": "light"
     },
     "output_type": "display_data"
    }
   ],
   "source": [
    "industry_order = barplot_categorical(train_combined, \"industry\")"
   ]
  },
  {
   "cell_type": "markdown",
   "metadata": {},
   "source": [
    "#### Years experience and salary\n",
    "On average, more years of experience is correlated with higher salary."
   ]
  },
  {
   "cell_type": "code",
   "execution_count": 12,
   "metadata": {},
   "outputs": [
    {
     "data": {
      "text/plain": [
       "<matplotlib.axes._subplots.AxesSubplot at 0x17d04902320>"
      ]
     },
     "execution_count": 12,
     "metadata": {},
     "output_type": "execute_result"
    },
    {
     "data": {
      "image/png": "[encoded data removed]",
      "text/plain": [
       "<Figure size 432x288 with 1 Axes>"
      ]
     },
     "metadata": {
      "needs_background": "light"
     },
     "output_type": "display_data"
    }
   ],
   "source": [
    "sns.barplot(x=\"yearsExperience\",y=\"salary\",data=train_combined)"
   ]
  },
  {
   "cell_type": "markdown",
   "metadata": {},
   "source": [
    "#### Miles from metropolis and salary\n",
    "The further the job from the metropolis, the lower the salary."
   ]
  },
  {
   "cell_type": "code",
   "execution_count": 13,
   "metadata": {
    "scrolled": true
   },
   "outputs": [
    {
     "data": {
      "text/plain": [
       "<matplotlib.axes._subplots.AxesSubplot at 0x17d048a0438>"
      ]
     },
     "execution_count": 13,
     "metadata": {},
     "output_type": "execute_result"
    },
    {
     "data": {
      "image/png": "[encoded data removed]",
      "text/plain": [
       "<Figure size 432x288 with 1 Axes>"
      ]
     },
     "metadata": {
      "needs_background": "light"
     },
     "output_type": "display_data"
    }
   ],
   "source": [
    "train_combined.groupby(\"milesFromMetropolis\").salary.mean().plot()"
   ]
  },
  {
   "cell_type": "markdown",
   "metadata": {},
   "source": [
    "### Correlation between features\n",
    "Degree and major are positively correlated with correlation coefficient 0.639. \n",
    "Degree and jobType are positively correlated with correlation coefficient 0.202.\n",
    "Major and jobType are positively correlated with correlation coefficient 0.167.\n",
    "\n",
    "Salary is correlated with jobType(0.579), degree(0.384044),yearsExperience(0.375013), \tmajor(0.346213), industry(0.293894), milesFromMetropolis(-0.297686)."
   ]
  },
  {
   "cell_type": "code",
   "execution_count": 14,
   "metadata": {},
   "outputs": [
    {
     "data": {
      "text/plain": [
       "{'jobType': {'JANITOR': 1,\n",
       "  'JUNIOR': 2,\n",
       "  'SENIOR': 3,\n",
       "  'MANAGER': 4,\n",
       "  'VICE_PRESIDENT': 5,\n",
       "  'CFO': 6,\n",
       "  'CTO': 7,\n",
       "  'CEO': 8},\n",
       " 'degree': {'NONE': 1,\n",
       "  'HIGH_SCHOOL': 2,\n",
       "  'BACHELORS': 3,\n",
       "  'MASTERS': 4,\n",
       "  'DOCTORAL': 5},\n",
       " 'industry': {'EDUCATION': 1,\n",
       "  'SERVICE': 2,\n",
       "  'AUTO': 3,\n",
       "  'HEALTH': 4,\n",
       "  'WEB': 5,\n",
       "  'FINANCE': 6,\n",
       "  'OIL': 7},\n",
       " 'major': {'NONE': 1,\n",
       "  'LITERATURE': 2,\n",
       "  'BIOLOGY': 3,\n",
       "  'CHEMISTRY': 4,\n",
       "  'PHYSICS': 5,\n",
       "  'COMPSCI': 6,\n",
       "  'MATH': 7,\n",
       "  'BUSINESS': 8,\n",
       "  'ENGINEERING': 9}}"
      ]
     },
     "execution_count": 14,
     "metadata": {},
     "output_type": "execute_result"
    }
   ],
   "source": [
    "# Preprocessing: map categorical variables to ordinal numbers based on group average salary\n",
    "replace_map = {\"jobType\":{x:i+1 for i,x in enumerate(jobType_order[::-1])},\n",
    "              \"degree\":{x:i+1 for i,x in enumerate(degree_order[::-1])},\n",
    "              \"industry\":{x:i+1 for i,x in enumerate(industry_order[::-1])},\n",
    "              \"major\":{x:i+1 for i,x in enumerate(major_order[::-1])}}\n",
    "replace_map"
   ]
  },
  {
   "cell_type": "code",
   "execution_count": 15,
   "metadata": {},
   "outputs": [],
   "source": [
    "train_combined.replace(replace_map, inplace=True)"
   ]
  },
  {
   "cell_type": "code",
   "execution_count": 16,
   "metadata": {},
   "outputs": [
    {
     "data": {
      "text/html": [
       "<div>\n",
       "<style scoped>\n",
       "    .dataframe tbody tr th:only-of-type {\n",
       "        vertical-align: middle;\n",
       "    }\n",
       "\n",
       "    .dataframe tbody tr th {\n",
       "        vertical-align: top;\n",
       "    }\n",
       "\n",
       "    .dataframe thead th {\n",
       "        text-align: right;\n",
       "    }\n",
       "</style>\n",
       "<table border=\"1\" class=\"dataframe\">\n",
       "  <thead>\n",
       "    <tr style=\"text-align: right;\">\n",
       "      <th></th>\n",
       "      <th>jobType</th>\n",
       "      <th>degree</th>\n",
       "      <th>major</th>\n",
       "      <th>industry</th>\n",
       "      <th>yearsExperience</th>\n",
       "      <th>milesFromMetropolis</th>\n",
       "      <th>salary</th>\n",
       "    </tr>\n",
       "  </thead>\n",
       "  <tbody>\n",
       "    <tr>\n",
       "      <th>jobType</th>\n",
       "      <td>1.000000</td>\n",
       "      <td>0.201779</td>\n",
       "      <td>0.167442</td>\n",
       "      <td>0.002146</td>\n",
       "      <td>0.001061</td>\n",
       "      <td>-0.000212</td>\n",
       "      <td>0.578922</td>\n",
       "    </tr>\n",
       "    <tr>\n",
       "      <th>degree</th>\n",
       "      <td>0.201779</td>\n",
       "      <td>1.000000</td>\n",
       "      <td>0.638639</td>\n",
       "      <td>0.001305</td>\n",
       "      <td>0.000217</td>\n",
       "      <td>0.001785</td>\n",
       "      <td>0.384044</td>\n",
       "    </tr>\n",
       "    <tr>\n",
       "      <th>major</th>\n",
       "      <td>0.167442</td>\n",
       "      <td>0.638639</td>\n",
       "      <td>1.000000</td>\n",
       "      <td>-0.000168</td>\n",
       "      <td>-0.000114</td>\n",
       "      <td>0.001128</td>\n",
       "      <td>0.346213</td>\n",
       "    </tr>\n",
       "    <tr>\n",
       "      <th>industry</th>\n",
       "      <td>0.002146</td>\n",
       "      <td>0.001305</td>\n",
       "      <td>-0.000168</td>\n",
       "      <td>1.000000</td>\n",
       "      <td>0.000624</td>\n",
       "      <td>-0.001158</td>\n",
       "      <td>0.293894</td>\n",
       "    </tr>\n",
       "    <tr>\n",
       "      <th>yearsExperience</th>\n",
       "      <td>0.001061</td>\n",
       "      <td>0.000217</td>\n",
       "      <td>-0.000114</td>\n",
       "      <td>0.000624</td>\n",
       "      <td>1.000000</td>\n",
       "      <td>0.000672</td>\n",
       "      <td>0.375013</td>\n",
       "    </tr>\n",
       "    <tr>\n",
       "      <th>milesFromMetropolis</th>\n",
       "      <td>-0.000212</td>\n",
       "      <td>0.001785</td>\n",
       "      <td>0.001128</td>\n",
       "      <td>-0.001158</td>\n",
       "      <td>0.000672</td>\n",
       "      <td>1.000000</td>\n",
       "      <td>-0.297686</td>\n",
       "    </tr>\n",
       "    <tr>\n",
       "      <th>salary</th>\n",
       "      <td>0.578922</td>\n",
       "      <td>0.384044</td>\n",
       "      <td>0.346213</td>\n",
       "      <td>0.293894</td>\n",
       "      <td>0.375013</td>\n",
       "      <td>-0.297686</td>\n",
       "      <td>1.000000</td>\n",
       "    </tr>\n",
       "  </tbody>\n",
       "</table>\n",
       "</div>"
      ],
      "text/plain": [
       "                      jobType    degree     major  industry  yearsExperience  \\\n",
       "jobType              1.000000  0.201779  0.167442  0.002146         0.001061   \n",
       "degree               0.201779  1.000000  0.638639  0.001305         0.000217   \n",
       "major                0.167442  0.638639  1.000000 -0.000168        -0.000114   \n",
       "industry             0.002146  0.001305 -0.000168  1.000000         0.000624   \n",
       "yearsExperience      0.001061  0.000217 -0.000114  0.000624         1.000000   \n",
       "milesFromMetropolis -0.000212  0.001785  0.001128 -0.001158         0.000672   \n",
       "salary               0.578922  0.384044  0.346213  0.293894         0.375013   \n",
       "\n",
       "                     milesFromMetropolis    salary  \n",
       "jobType                        -0.000212  0.578922  \n",
       "degree                          0.001785  0.384044  \n",
       "major                           0.001128  0.346213  \n",
       "industry                       -0.001158  0.293894  \n",
       "yearsExperience                 0.000672  0.375013  \n",
       "milesFromMetropolis             1.000000 -0.297686  \n",
       "salary                         -0.297686  1.000000  "
      ]
     },
     "execution_count": 16,
     "metadata": {},
     "output_type": "execute_result"
    },
    {
     "data": {
      "image/png": "[encoded data removed]",
      "text/plain": [
       "<Figure size 432x288 with 2 Axes>"
      ]
     },
     "metadata": {
      "needs_background": "light"
     },
     "output_type": "display_data"
    }
   ],
   "source": [
    "import matplotlib.pyplot as plt\n",
    "corr = train_combined.corr()\n",
    "sns.heatmap(corr, \n",
    "            xticklabels=corr.columns.values,\n",
    "            yticklabels=corr.columns.values)\n",
    "plt.title('Heatmap of Correlation Matrix')\n",
    "corr"
   ]
  },
  {
   "cell_type": "markdown",
   "metadata": {},
   "source": [
    "### ---- 5 Establish a baseline ----"
   ]
  },
  {
   "cell_type": "code",
   "execution_count": 29,
   "metadata": {},
   "outputs": [],
   "source": [
    "train_X_new = train_combined[['jobType','degree','major','industry',\n",
    "                              'yearsExperience','milesFromMetropolis']]\n",
    "train_y_new = train_combined['salary'].astype(\"float64\")"
   ]
  },
  {
   "cell_type": "markdown",
   "metadata": {},
   "source": [
    "#### BaseLine model: predicting salary by jobType"
   ]
  },
  {
   "cell_type": "code",
   "execution_count": 18,
   "metadata": {},
   "outputs": [
    {
     "name": "stdout",
     "output_type": "stream",
     "text": [
      "963.9499897952683\n"
     ]
    }
   ],
   "source": [
    "#select a reasonable metric (MSE in this case)\n",
    "#create an extremely simple model and measure its efficacy\n",
    "#e.g. use \"average salary\" for each industry as your model and then measure MSE\n",
    "#during 5-fold cross-validation\n",
    "class avg_salary_by_jobType:\n",
    "    def __init__(self, data):\n",
    "        self.avg_salary = data.groupby(\"jobType\").salary.mean()\n",
    "        self.rule = {i+1:x for i,x in enumerate(self.avg_salary)}\n",
    "    def predict(self, test_X):\n",
    "        self.prediction = test_X.jobType.map(lambda x:self.rule[x])\n",
    "        return self.prediction\n",
    "\n",
    "from sklearn.model_selection import KFold\n",
    "kf = KFold(n_splits=5, shuffle=True, random_state=100)\n",
    "MSE = 0\n",
    "for train, test in kf.split(train_X_new):\n",
    "    train_fold = pd.concat([train_X_new.iloc[train,:], train_y_new[train]], axis=1, ignore_index=False)\n",
    "    jobType_model = avg_salary_by_jobType(train_fold)\n",
    "    prediction = jobType_model.predict(train_X_new.iloc[test,:])\n",
    "    diff = prediction - train_y_new[test]\n",
    "    MSE += diff.pow(2).sum()/len(test)\n",
    "print(MSE/5)\n"
   ]
  },
  {
   "cell_type": "code",
   "execution_count": null,
   "metadata": {},
   "outputs": [],
   "source": []
  },
  {
   "cell_type": "markdown",
   "metadata": {},
   "source": [
    "### ---- 6 Hypothesize solution ----"
   ]
  },
  {
   "cell_type": "code",
   "execution_count": 19,
   "metadata": {},
   "outputs": [],
   "source": [
    "#brainstorm 3 models that you think may improve results over the baseline model based\n",
    "#on your "
   ]
  },
  {
   "cell_type": "code",
   "execution_count": 20,
   "metadata": {},
   "outputs": [
    {
     "name": "stdout",
     "output_type": "stream",
     "text": [
      "0.7356279610245862\n",
      "[ 8.7233478   5.22311538  1.94488133  5.66009929  2.01073299 -0.39959442]\n",
      "29.13818422622576\n",
      "397.09658589745226\n"
     ]
    }
   ],
   "source": [
    "# Model 1 Linear Regression without interaction\n",
    "from sklearn.linear_model import LinearRegression\n",
    "MSE = 0\n",
    "for train, test in kf.split(train_X_new):\n",
    "    lr_model = LinearRegression()\n",
    "    lr_model.fit(train_X_new.loc[train,:], train_y_new[train])\n",
    "    prediction = lr_model.predict(train_X_new.loc[test,:])\n",
    "    diff = prediction - train_y_new[test]\n",
    "    MSE += diff.pow(2).sum()/len(test)\n",
    "print(lr_model.score(train_X_new.loc[test,:], train_y_new[test]))\n",
    "print(lr_model.coef_)\n",
    "print(lr_model.intercept_)\n",
    "print(MSE/5)\n"
   ]
  },
  {
   "cell_type": "code",
   "execution_count": 32,
   "metadata": {},
   "outputs": [
    {
     "name": "stdout",
     "output_type": "stream",
     "text": [
      "0.736000463312447\n",
      "[ 9.27311944  5.78443087  2.53044199  5.65979658  2.0105579  -0.39964892\n",
      " -0.03212314 -0.09627653 -0.11522138]\n",
      "26.614669133739326\n",
      "396.4067719855261\n"
     ]
    }
   ],
   "source": [
    "# Model 2 Linear Regression with interaction between degree, major, jobType\n",
    "train_X_inter = train_X_new.copy()\n",
    "train_X_inter['degreeMajor'] = train_X_inter['degree'].mul(train_X_inter['major'])\n",
    "train_X_inter['jobTypeMajor'] = train_X_inter['jobType'].mul(train_X_inter['major'])\n",
    "train_X_inter['degreejobType'] = train_X_inter['degree'].mul(train_X_inter['jobType'])\n",
    "MSE = 0\n",
    "for train, test in kf.split(train_X_inter):\n",
    "    lr_model = LinearRegression()\n",
    "    lr_model.fit(train_X_inter.loc[train,:], train_y_new[train])\n",
    "    prediction = lr_model.predict(train_X_inter.loc[test,:])\n",
    "    diff = prediction - train_y_new[test]\n",
    "    MSE += diff.pow(2).sum()/len(test)\n",
    "print(lr_model.score(train_X_inter.loc[test,:], train_y_new[test]))\n",
    "print(lr_model.coef_)\n",
    "print(lr_model.intercept_)\n",
    "print(MSE/5)"
   ]
  },
  {
   "cell_type": "code",
   "execution_count": 36,
   "metadata": {},
   "outputs": [
    {
     "name": "stdout",
     "output_type": "stream",
     "text": [
      "692.2564531287853\n"
     ]
    }
   ],
   "source": [
    "# Model 3, try using a regression tree\n",
    "from sklearn.tree import DecisionTreeRegressor \n",
    "MSE = 0\n",
    "for train, test in kf.split(train_X_new):\n",
    "    DTR = DecisionTreeRegressor()\n",
    "    DTR.fit(train_X_new.loc[train,:], train_y_new[train])\n",
    "    prediction = DTR.predict(train_X_new.loc[test,:])\n",
    "    diff = prediction - train_y_new[test]\n",
    "    MSE += diff.pow(2).sum()/len(test)\n",
    "print(MSE/5)"
   ]
  },
  {
   "cell_type": "markdown",
   "metadata": {},
   "source": [
    "Brainstorm 3 models that you think may improve results over the baseline model based on your EDA and explain why they're reasonable solutions here.\n",
    "\n",
    "Also write down any new features that you think you should try adding to the model based on your EDA, e.g. interaction variables, summary statistics for each group, etc"
   ]
  },
  {
   "cell_type": "code",
   "execution_count": 38,
   "metadata": {},
   "outputs": [
    {
     "name": "stdout",
     "output_type": "stream",
     "text": [
      "1\n",
      "      Iter       Train Loss   Remaining Time \n",
      "         1          29.5093            2.45m\n",
      "         2          28.2206            2.43m\n",
      "         3          27.1315            2.39m\n",
      "         4          26.1543            2.35m\n",
      "         5          25.2883            2.30m\n",
      "         6          24.5016            2.28m\n",
      "         7          23.8143            2.25m\n",
      "         8          23.1627            2.18m\n",
      "         9          22.5709            2.11m\n",
      "        10          22.0335            2.08m\n",
      "        20          18.6165            1.89m\n",
      "        30          17.0291            1.66m\n",
      "        40          16.2674            1.42m\n",
      "        50          15.8906            1.18m\n",
      "        60          15.7000           56.38s\n",
      "        70          15.6036           42.18s\n",
      "        80          15.5520           27.95s\n",
      "        90          15.5194           13.93s\n",
      "       100          15.4959            0.00s\n",
      "2\n",
      "      Iter       Train Loss   Remaining Time \n",
      "         1          29.4820            2.27m\n",
      "         2          28.2007            2.28m\n",
      "         3          27.1001            2.33m\n",
      "         4          26.1345            2.33m\n",
      "         5          25.2688            2.29m\n",
      "         6          24.5025            2.26m\n",
      "         7          23.7913            2.23m\n",
      "         8          23.1478            2.19m\n",
      "         9          22.5848            2.15m\n",
      "        10          22.0548            2.12m\n",
      "        20          18.6244            1.91m\n",
      "        30          17.0484            1.67m\n",
      "        40          16.3010            1.42m\n",
      "        50          15.9104            1.19m\n",
      "        60          15.7202           56.79s\n",
      "        70          15.6212           42.35s\n",
      "        80          15.5659           28.12s\n",
      "        90          15.5340           13.96s\n",
      "       100          15.5086            0.00s\n",
      "3\n",
      "      Iter       Train Loss   Remaining Time \n",
      "         1          29.5102            2.28m\n",
      "         2          28.2258            2.21m\n",
      "         3          27.1150            2.19m\n",
      "         4          26.1438            2.19m\n",
      "         5          25.2749            2.16m\n",
      "         6          24.5010            2.14m\n",
      "         7          23.7814            2.13m\n",
      "         8          23.1419            2.10m\n",
      "         9          22.5333            2.09m\n",
      "        10          21.9934            2.06m\n",
      "        20          18.6002            1.85m\n",
      "        30          17.0345            1.62m\n",
      "        40          16.2759            1.39m\n",
      "        50          15.8901            1.15m\n",
      "        60          15.7003           55.24s\n",
      "        70          15.6064           41.21s\n",
      "        80          15.5514           27.35s\n",
      "        90          15.5183           13.68s\n",
      "       100          15.4914            0.00s\n",
      "4\n",
      "      Iter       Train Loss   Remaining Time \n",
      "         1          29.4911            2.36m\n",
      "         2          28.2043            2.35m\n",
      "         3          27.0963            2.33m\n",
      "         4          26.1294            2.30m\n",
      "         5          25.2559            2.27m\n",
      "         6          24.4827            2.26m\n",
      "         7          23.7678            2.23m\n",
      "         8          23.1150            2.22m\n",
      "         9          22.5343            2.19m\n",
      "        10          21.9845            2.17m\n",
      "        20          18.6197            1.89m\n",
      "        30          17.0567            1.63m\n",
      "        40          16.2955            1.39m\n",
      "        50          15.9136            1.15m\n",
      "        60          15.7208           54.91s\n",
      "        70          15.6197           41.16s\n",
      "        80          15.5672           27.40s\n",
      "        90          15.5311           13.68s\n",
      "       100          15.5085            0.00s\n",
      "5\n",
      "      Iter       Train Loss   Remaining Time \n",
      "         1          29.5183            2.24m\n",
      "         2          28.2349            2.28m\n",
      "         3          27.1192            2.27m\n",
      "         4          26.1493            2.25m\n",
      "         5          25.3018            2.24m\n",
      "         6          24.5145            2.20m\n",
      "         7          23.8136            2.19m\n",
      "         8          23.1593            2.17m\n",
      "         9          22.5863            2.14m\n",
      "        10          22.0450            2.12m\n",
      "        20          18.6352            1.87m\n",
      "        30          17.0615            1.65m\n",
      "        40          16.2966            1.40m\n",
      "        50          15.9178            1.15m\n",
      "        60          15.7256           55.18s\n",
      "        70          15.6294           41.05s\n",
      "        80          15.5800           27.12s\n",
      "        90          15.5485           13.50s\n",
      "       100          15.5234            0.00s\n",
      "368.7035424815539\n"
     ]
    }
   ],
   "source": [
    "# Model 4, gradient boosting regressor\n",
    "from sklearn.ensemble import GradientBoostingRegressor\n",
    "MSE = 0\n",
    "i=1\n",
    "for train, test in kf.split(train_X_new):\n",
    "    print(i)\n",
    "    i += 1\n",
    "    GBR = GradientBoostingRegressor(loss=\"lad\",learning_rate=0.1, n_estimators=100,\n",
    "                                    min_samples_split=2, min_samples_leaf=1,\n",
    "                                    max_depth=3, verbose=1)\n",
    "    GBR.fit(train_X_new.loc[train,:], train_y_new[train])\n",
    "    prediction = GBR.predict(train_X_new.loc[test,:])\n",
    "    diff = prediction - train_y_new[test]\n",
    "    MSE += diff.pow(2).sum()/len(test)\n",
    "print(MSE/5)"
   ]
  },
  {
   "cell_type": "markdown",
   "metadata": {},
   "source": [
    "## Part 3 - DEVELOP"
   ]
  },
  {
   "cell_type": "markdown",
   "metadata": {},
   "source": [
    "You will cycle through creating features, tuning models, and training/validing models (steps 7-9) until you've reached your efficacy goal\n",
    "\n",
    "#### Your metric will be MSE and your goal is:\n",
    " - <360 for entry-level data science roles\n",
    " - <320 for senior data science roles"
   ]
  },
  {
   "cell_type": "markdown",
   "metadata": {},
   "source": [
    "### ---- 7 Engineer features  ----"
   ]
  },
  {
   "cell_type": "code",
   "execution_count": null,
   "metadata": {},
   "outputs": [],
   "source": [
    "#make sure that data is ready for modeling\n",
    "#create any new features needed to potentially enhance model"
   ]
  },
  {
   "cell_type": "markdown",
   "metadata": {},
   "source": [
    "### ---- 8 Create models ----"
   ]
  },
  {
   "cell_type": "code",
   "execution_count": null,
   "metadata": {},
   "outputs": [],
   "source": [
    "#create and tune the models that you brainstormed during part 2"
   ]
  },
  {
   "cell_type": "markdown",
   "metadata": {},
   "source": [
    "### ---- 9 Test models ----"
   ]
  },
  {
   "cell_type": "code",
   "execution_count": null,
   "metadata": {},
   "outputs": [],
   "source": [
    "#do 5-fold cross validation on models and measure MSE"
   ]
  },
  {
   "cell_type": "markdown",
   "metadata": {},
   "source": [
    "### ---- 10 Select best model  ----"
   ]
  },
  {
   "cell_type": "code",
   "execution_count": null,
   "metadata": {},
   "outputs": [],
   "source": [
    "#select the model with the lowest error as your \"prodcuction\" model"
   ]
  },
  {
   "cell_type": "markdown",
   "metadata": {},
   "source": [
    "## Part 4 - DEPLOY"
   ]
  },
  {
   "cell_type": "markdown",
   "metadata": {},
   "source": [
    "### ---- 11 Automate pipeline ----"
   ]
  },
  {
   "cell_type": "code",
   "execution_count": null,
   "metadata": {},
   "outputs": [],
   "source": [
    "#write script that trains model on entire training set, saves model to disk,\n",
    "#and scores the \"test\" dataset"
   ]
  },
  {
   "cell_type": "markdown",
   "metadata": {},
   "source": [
    "### ---- 12 Deploy solution ----"
   ]
  },
  {
   "cell_type": "code",
   "execution_count": null,
   "metadata": {},
   "outputs": [],
   "source": [
    "#save your prediction to a csv file or optionally save them as a table in a SQL database\n",
    "#additionally, you want to save a visualization and summary of your prediction and feature importances\n",
    "#these visualizations and summaries will be extremely useful to business stakeholders"
   ]
  },
  {
   "cell_type": "markdown",
   "metadata": {},
   "source": [
    "### ---- 13 Measure efficacy ----"
   ]
  },
  {
   "cell_type": "markdown",
   "metadata": {},
   "source": [
    "We'll skip this step since we don't have the outcomes for the test data"
   ]
  },
  {
   "cell_type": "code",
   "execution_count": null,
   "metadata": {},
   "outputs": [],
   "source": []
  },
  {
   "cell_type": "code",
   "execution_count": null,
   "metadata": {},
   "outputs": [],
   "source": []
  },
  {
   "cell_type": "code",
   "execution_count": null,
   "metadata": {},
   "outputs": [],
   "source": []
  },
  {
   "cell_type": "code",
   "execution_count": null,
   "metadata": {},
   "outputs": [],
   "source": []
  }
 ],
 "metadata": {
  "kernelspec": {
   "display_name": "Python 3",
   "language": "python",
   "name": "python3"
  },
  "language_info": {
   "codemirror_mode": {
    "name": "ipython",
    "version": 3
   },
   "file_extension": ".py",
   "mimetype": "text/x-python",
   "name": "python",
   "nbconvert_exporter": "python",
   "pygments_lexer": "ipython3",
   "version": "3.7.3"
  }
 },
 "nbformat": 4,
 "nbformat_minor": 2
}
