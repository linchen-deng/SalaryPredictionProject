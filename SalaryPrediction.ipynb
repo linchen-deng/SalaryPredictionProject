{
 "cells": [
  {
   "cell_type": "markdown",
   "metadata": {},
   "source": [
    "# Salary Predictions Based on Job Descriptions"
   ]
  },
  {
   "cell_type": "markdown",
   "metadata": {},
   "source": [
    "# Part 1 - DEFINE"
   ]
  },
  {
   "cell_type": "markdown",
   "metadata": {},
   "source": [
    "### ---- 1 Define the problem ----"
   ]
  },
  {
   "cell_type": "markdown",
   "metadata": {},
   "source": [
    "There are many features embedded in job descriptions. Is there any association betweeen the job description and salary? If so, what are the important features? "
   ]
  },
  {
   "cell_type": "code",
   "execution_count": 1,
   "metadata": {},
   "outputs": [],
   "source": [
    "#import your libraries\n",
    "import pandas as pd\n",
    "import sklearn as sk\n",
    "import seaborn as sns\n",
    "import matplotlib.pyplot as plt\n",
    "\n",
    "#etc\n",
    "\n",
    "#your info here\n",
    "__author__ = \"Linchen Deng\"\n",
    "__email__ = \"linchen_deng@brown.edu\""
   ]
  },
  {
   "cell_type": "markdown",
   "metadata": {},
   "source": [
    "## Part 2 - DISCOVER"
   ]
  },
  {
   "cell_type": "markdown",
   "metadata": {},
   "source": [
    "### ---- 2 Load the data ----"
   ]
  },
  {
   "cell_type": "code",
   "execution_count": 2,
   "metadata": {},
   "outputs": [],
   "source": [
    "#load the data into a Pandas dataframe\n",
    "train_X = pd.read_csv(\"data/train_features.csv\")\n",
    "train_y = pd.read_csv(\"data/train_salaries.csv\")\n",
    "test_X = pd.read_csv(\"data/test_features.csv\")"
   ]
  },
  {
   "cell_type": "markdown",
   "metadata": {},
   "source": [
    "### ---- 3 Clean the data ----"
   ]
  },
  {
   "cell_type": "code",
   "execution_count": 3,
   "metadata": {},
   "outputs": [
    {
     "data": {
      "text/html": [
       "<div>\n",
       "<style scoped>\n",
       "    .dataframe tbody tr th:only-of-type {\n",
       "        vertical-align: middle;\n",
       "    }\n",
       "\n",
       "    .dataframe tbody tr th {\n",
       "        vertical-align: top;\n",
       "    }\n",
       "\n",
       "    .dataframe thead th {\n",
       "        text-align: right;\n",
       "    }\n",
       "</style>\n",
       "<table border=\"1\" class=\"dataframe\">\n",
       "  <thead>\n",
       "    <tr style=\"text-align: right;\">\n",
       "      <th></th>\n",
       "      <th>jobId</th>\n",
       "      <th>companyId</th>\n",
       "      <th>jobType</th>\n",
       "      <th>degree</th>\n",
       "      <th>major</th>\n",
       "      <th>industry</th>\n",
       "      <th>yearsExperience</th>\n",
       "      <th>milesFromMetropolis</th>\n",
       "    </tr>\n",
       "  </thead>\n",
       "  <tbody>\n",
       "    <tr>\n",
       "      <th>0</th>\n",
       "      <td>JOB1362684407687</td>\n",
       "      <td>COMP37</td>\n",
       "      <td>CFO</td>\n",
       "      <td>MASTERS</td>\n",
       "      <td>MATH</td>\n",
       "      <td>HEALTH</td>\n",
       "      <td>10</td>\n",
       "      <td>83</td>\n",
       "    </tr>\n",
       "    <tr>\n",
       "      <th>1</th>\n",
       "      <td>JOB1362684407688</td>\n",
       "      <td>COMP19</td>\n",
       "      <td>CEO</td>\n",
       "      <td>HIGH_SCHOOL</td>\n",
       "      <td>NONE</td>\n",
       "      <td>WEB</td>\n",
       "      <td>3</td>\n",
       "      <td>73</td>\n",
       "    </tr>\n",
       "    <tr>\n",
       "      <th>2</th>\n",
       "      <td>JOB1362684407689</td>\n",
       "      <td>COMP52</td>\n",
       "      <td>VICE_PRESIDENT</td>\n",
       "      <td>DOCTORAL</td>\n",
       "      <td>PHYSICS</td>\n",
       "      <td>HEALTH</td>\n",
       "      <td>10</td>\n",
       "      <td>38</td>\n",
       "    </tr>\n",
       "    <tr>\n",
       "      <th>3</th>\n",
       "      <td>JOB1362684407690</td>\n",
       "      <td>COMP38</td>\n",
       "      <td>MANAGER</td>\n",
       "      <td>DOCTORAL</td>\n",
       "      <td>CHEMISTRY</td>\n",
       "      <td>AUTO</td>\n",
       "      <td>8</td>\n",
       "      <td>17</td>\n",
       "    </tr>\n",
       "    <tr>\n",
       "      <th>4</th>\n",
       "      <td>JOB1362684407691</td>\n",
       "      <td>COMP7</td>\n",
       "      <td>VICE_PRESIDENT</td>\n",
       "      <td>BACHELORS</td>\n",
       "      <td>PHYSICS</td>\n",
       "      <td>FINANCE</td>\n",
       "      <td>8</td>\n",
       "      <td>16</td>\n",
       "    </tr>\n",
       "  </tbody>\n",
       "</table>\n",
       "</div>"
      ],
      "text/plain": [
       "              jobId companyId         jobType       degree      major  \\\n",
       "0  JOB1362684407687    COMP37             CFO      MASTERS       MATH   \n",
       "1  JOB1362684407688    COMP19             CEO  HIGH_SCHOOL       NONE   \n",
       "2  JOB1362684407689    COMP52  VICE_PRESIDENT     DOCTORAL    PHYSICS   \n",
       "3  JOB1362684407690    COMP38         MANAGER     DOCTORAL  CHEMISTRY   \n",
       "4  JOB1362684407691     COMP7  VICE_PRESIDENT    BACHELORS    PHYSICS   \n",
       "\n",
       "  industry  yearsExperience  milesFromMetropolis  \n",
       "0   HEALTH               10                   83  \n",
       "1      WEB                3                   73  \n",
       "2   HEALTH               10                   38  \n",
       "3     AUTO                8                   17  \n",
       "4  FINANCE                8                   16  "
      ]
     },
     "execution_count": 3,
     "metadata": {},
     "output_type": "execute_result"
    }
   ],
   "source": [
    "# Take a look at the training data\n",
    "train_X.head()"
   ]
  },
  {
   "cell_type": "code",
   "execution_count": 4,
   "metadata": {},
   "outputs": [
    {
     "name": "stdout",
     "output_type": "stream",
     "text": [
      "(1000000, 8) (1000000, 2)\n",
      "<class 'pandas.core.frame.DataFrame'>\n",
      "RangeIndex: 1000000 entries, 0 to 999999\n",
      "Data columns (total 8 columns):\n",
      "jobId                  1000000 non-null object\n",
      "companyId              1000000 non-null object\n",
      "jobType                1000000 non-null object\n",
      "degree                 1000000 non-null object\n",
      "major                  1000000 non-null object\n",
      "industry               1000000 non-null object\n",
      "yearsExperience        1000000 non-null int64\n",
      "milesFromMetropolis    1000000 non-null int64\n",
      "dtypes: int64(2), object(6)\n",
      "memory usage: 61.0+ MB\n",
      "<class 'pandas.core.frame.DataFrame'>\n",
      "RangeIndex: 1000000 entries, 0 to 999999\n",
      "Data columns (total 2 columns):\n",
      "jobId     1000000 non-null object\n",
      "salary    1000000 non-null int64\n",
      "dtypes: int64(1), object(1)\n",
      "memory usage: 15.3+ MB\n",
      "None None\n"
     ]
    }
   ],
   "source": [
    "#look for duplicate data, invalid data (e.g. salaries <=0), or corrupt data and remove it\n",
    "print(train_X.shape, train_y.shape)\n",
    "print(train_X.info(), train_y.info())"
   ]
  },
  {
   "cell_type": "code",
   "execution_count": 5,
   "metadata": {},
   "outputs": [
    {
     "data": {
      "text/plain": [
       "jobId                  False\n",
       "companyId              False\n",
       "jobType                False\n",
       "degree                 False\n",
       "major                  False\n",
       "industry               False\n",
       "yearsExperience        False\n",
       "milesFromMetropolis    False\n",
       "dtype: bool"
      ]
     },
     "execution_count": 5,
     "metadata": {},
     "output_type": "execute_result"
    }
   ],
   "source": [
    "# There is no NAs in the training data \n",
    "train_X.isnull().any()"
   ]
  },
  {
   "cell_type": "code",
   "execution_count": 6,
   "metadata": {},
   "outputs": [
    {
     "data": {
      "text/html": [
       "<div>\n",
       "<style scoped>\n",
       "    .dataframe tbody tr th:only-of-type {\n",
       "        vertical-align: middle;\n",
       "    }\n",
       "\n",
       "    .dataframe tbody tr th {\n",
       "        vertical-align: top;\n",
       "    }\n",
       "\n",
       "    .dataframe thead th {\n",
       "        text-align: right;\n",
       "    }\n",
       "</style>\n",
       "<table border=\"1\" class=\"dataframe\">\n",
       "  <thead>\n",
       "    <tr style=\"text-align: right;\">\n",
       "      <th></th>\n",
       "      <th>jobId</th>\n",
       "      <th>companyId</th>\n",
       "      <th>jobType</th>\n",
       "      <th>degree</th>\n",
       "      <th>major</th>\n",
       "      <th>industry</th>\n",
       "      <th>yearsExperience</th>\n",
       "      <th>milesFromMetropolis</th>\n",
       "    </tr>\n",
       "  </thead>\n",
       "  <tbody>\n",
       "  </tbody>\n",
       "</table>\n",
       "</div>"
      ],
      "text/plain": [
       "Empty DataFrame\n",
       "Columns: [jobId, companyId, jobType, degree, major, industry, yearsExperience, milesFromMetropolis]\n",
       "Index: []"
      ]
     },
     "execution_count": 6,
     "metadata": {},
     "output_type": "execute_result"
    }
   ],
   "source": [
    "# There is no duplicated row in the training data\n",
    "train_X[train_X.duplicated()]"
   ]
  },
  {
   "cell_type": "code",
   "execution_count": 7,
   "metadata": {},
   "outputs": [
    {
     "data": {
      "text/html": [
       "<div>\n",
       "<style scoped>\n",
       "    .dataframe tbody tr th:only-of-type {\n",
       "        vertical-align: middle;\n",
       "    }\n",
       "\n",
       "    .dataframe tbody tr th {\n",
       "        vertical-align: top;\n",
       "    }\n",
       "\n",
       "    .dataframe thead th {\n",
       "        text-align: right;\n",
       "    }\n",
       "</style>\n",
       "<table border=\"1\" class=\"dataframe\">\n",
       "  <thead>\n",
       "    <tr style=\"text-align: right;\">\n",
       "      <th></th>\n",
       "      <th>jobId</th>\n",
       "      <th>salary</th>\n",
       "    </tr>\n",
       "  </thead>\n",
       "  <tbody>\n",
       "    <tr>\n",
       "      <th>30559</th>\n",
       "      <td>JOB1362684438246</td>\n",
       "      <td>0</td>\n",
       "    </tr>\n",
       "    <tr>\n",
       "      <th>495984</th>\n",
       "      <td>JOB1362684903671</td>\n",
       "      <td>0</td>\n",
       "    </tr>\n",
       "    <tr>\n",
       "      <th>652076</th>\n",
       "      <td>JOB1362685059763</td>\n",
       "      <td>0</td>\n",
       "    </tr>\n",
       "    <tr>\n",
       "      <th>816129</th>\n",
       "      <td>JOB1362685223816</td>\n",
       "      <td>0</td>\n",
       "    </tr>\n",
       "    <tr>\n",
       "      <th>828156</th>\n",
       "      <td>JOB1362685235843</td>\n",
       "      <td>0</td>\n",
       "    </tr>\n",
       "  </tbody>\n",
       "</table>\n",
       "</div>"
      ],
      "text/plain": [
       "                   jobId  salary\n",
       "30559   JOB1362684438246       0\n",
       "495984  JOB1362684903671       0\n",
       "652076  JOB1362685059763       0\n",
       "816129  JOB1362685223816       0\n",
       "828156  JOB1362685235843       0"
      ]
     },
     "execution_count": 7,
     "metadata": {},
     "output_type": "execute_result"
    }
   ],
   "source": [
    "# Check non-positive salaries\n",
    "wrong_salary_rows = train_y[\"salary\"]<=0\n",
    "train_y[wrong_salary_rows]"
   ]
  },
  {
   "cell_type": "code",
   "execution_count": 8,
   "metadata": {},
   "outputs": [],
   "source": [
    "# remove rows with zero salaries in the training data\n",
    "train_X.drop(train_X[wrong_salary_rows].index, inplace=True)\n",
    "train_y.drop(train_y[wrong_salary_rows].index, inplace=True)"
   ]
  },
  {
   "cell_type": "markdown",
   "metadata": {},
   "source": [
    "### ---- 4 Explore the data (EDA) ----"
   ]
  },
  {
   "cell_type": "markdown",
   "metadata": {},
   "source": [
    "#### People in this data set on average have 12 years of experience and work 50 miles from metropolis cities."
   ]
  },
  {
   "cell_type": "code",
   "execution_count": 46,
   "metadata": {
    "scrolled": true
   },
   "outputs": [
    {
     "data": {
      "text/html": [
       "<div>\n",
       "<style scoped>\n",
       "    .dataframe tbody tr th:only-of-type {\n",
       "        vertical-align: middle;\n",
       "    }\n",
       "\n",
       "    .dataframe tbody tr th {\n",
       "        vertical-align: top;\n",
       "    }\n",
       "\n",
       "    .dataframe thead th {\n",
       "        text-align: right;\n",
       "    }\n",
       "</style>\n",
       "<table border=\"1\" class=\"dataframe\">\n",
       "  <thead>\n",
       "    <tr style=\"text-align: right;\">\n",
       "      <th></th>\n",
       "      <th>yearsExperience</th>\n",
       "      <th>milesFromMetropolis</th>\n",
       "    </tr>\n",
       "  </thead>\n",
       "  <tbody>\n",
       "    <tr>\n",
       "      <th>count</th>\n",
       "      <td>999995.000000</td>\n",
       "      <td>999995.000000</td>\n",
       "    </tr>\n",
       "    <tr>\n",
       "      <th>mean</th>\n",
       "      <td>11.992407</td>\n",
       "      <td>49.529381</td>\n",
       "    </tr>\n",
       "    <tr>\n",
       "      <th>std</th>\n",
       "      <td>7.212390</td>\n",
       "      <td>28.877721</td>\n",
       "    </tr>\n",
       "    <tr>\n",
       "      <th>min</th>\n",
       "      <td>0.000000</td>\n",
       "      <td>0.000000</td>\n",
       "    </tr>\n",
       "    <tr>\n",
       "      <th>25%</th>\n",
       "      <td>6.000000</td>\n",
       "      <td>25.000000</td>\n",
       "    </tr>\n",
       "    <tr>\n",
       "      <th>50%</th>\n",
       "      <td>12.000000</td>\n",
       "      <td>50.000000</td>\n",
       "    </tr>\n",
       "    <tr>\n",
       "      <th>75%</th>\n",
       "      <td>18.000000</td>\n",
       "      <td>75.000000</td>\n",
       "    </tr>\n",
       "    <tr>\n",
       "      <th>max</th>\n",
       "      <td>24.000000</td>\n",
       "      <td>99.000000</td>\n",
       "    </tr>\n",
       "  </tbody>\n",
       "</table>\n",
       "</div>"
      ],
      "text/plain": [
       "       yearsExperience  milesFromMetropolis\n",
       "count    999995.000000        999995.000000\n",
       "mean         11.992407            49.529381\n",
       "std           7.212390            28.877721\n",
       "min           0.000000             0.000000\n",
       "25%           6.000000            25.000000\n",
       "50%          12.000000            50.000000\n",
       "75%          18.000000            75.000000\n",
       "max          24.000000            99.000000"
      ]
     },
     "execution_count": 46,
     "metadata": {},
     "output_type": "execute_result"
    },
    {
     "data": {
      "image/png": "[encoded data removed]",
      "text/plain": [
       "<Figure size 504x216 with 2 Axes>"
      ]
     },
     "metadata": {
      "needs_background": "light"
     },
     "output_type": "display_data"
    }
   ],
   "source": [
    "f, axes = plt.subplots(1,2,figsize=(7,3))\n",
    "plt.subplots_adjust(wspace=0.4)\n",
    "sns.distplot(train_X.yearsExperience, ax=axes[0])\n",
    "sns.distplot(train_X.milesFromMetropolis, ax=axes[1])\n",
    "train_X.describe()"
   ]
  },
  {
   "cell_type": "markdown",
   "metadata": {},
   "source": [
    "#### Distribution of levels within each categorical variable"
   ]
  },
  {
   "cell_type": "code",
   "execution_count": 30,
   "metadata": {},
   "outputs": [
    {
     "data": {
      "text/plain": [
       "Text(0.5, 1.0, 'industry')"
      ]
     },
     "execution_count": 30,
     "metadata": {},
     "output_type": "execute_result"
    },
    {
     "data": {
      "image/png": "[encoded data removed]",
      "text/plain": [
       "<Figure size 720x576 with 4 Axes>"
      ]
     },
     "metadata": {
      "needs_background": "light"
     },
     "output_type": "display_data"
    }
   ],
   "source": [
    "f, axes = plt.subplots(2, 2, figsize=(10, 8))\n",
    "plt.subplots_adjust(wspace=0.8, hspace=0.3)\n",
    "sns.countplot(y=\"jobType\", data=train_X, ax=axes[0, 0]).set_title('jobType')\n",
    "sns.countplot(y=\"degree\", data=train_X, ax=axes[0, 1]).set_title('degree')\n",
    "sns.countplot(y=\"major\", data=train_X, ax=axes[1, 0]).set_title('major')\n",
    "sns.countplot(y=\"industry\", data=train_X, ax=axes[1, 1]).set_title('industry')"
   ]
  },
  {
   "cell_type": "markdown",
   "metadata": {},
   "source": [
    "#### The average salary is 116K, ranging from 17K to 301K."
   ]
  },
  {
   "cell_type": "code",
   "execution_count": 50,
   "metadata": {},
   "outputs": [
    {
     "data": {
      "text/plain": [
       "count    999995.000000\n",
       "mean        116.062398\n",
       "std          38.717163\n",
       "min          17.000000\n",
       "25%          88.000000\n",
       "50%         114.000000\n",
       "75%         141.000000\n",
       "max         301.000000\n",
       "Name: salary, dtype: float64"
      ]
     },
     "execution_count": 50,
     "metadata": {},
     "output_type": "execute_result"
    },
    {
     "data": {
      "image/png": "[encoded data removed]",
      "text/plain": [
       "<Figure size 432x288 with 1 Axes>"
      ]
     },
     "metadata": {
      "needs_background": "light"
     },
     "output_type": "display_data"
    }
   ],
   "source": [
    "sns.distplot(train_y.salary)\n",
    "train_y.salary.describe()"
   ]
  },
  {
   "cell_type": "markdown",
   "metadata": {},
   "source": [
    "### Explore Relationships between features and salary"
   ]
  },
  {
   "cell_type": "code",
   "execution_count": 54,
   "metadata": {},
   "outputs": [],
   "source": [
    "train_combined = pd.merge(left=train_X,right=train_y, left_on='jobId', right_on='jobId')"
   ]
  },
  {
   "cell_type": "code",
   "execution_count": 55,
   "metadata": {},
   "outputs": [],
   "source": [
    "def barplot_categorical(data, variable_x):\n",
    "    ordered_category = data.groupby(variable_x).salary.mean().sort_values(ascending=False).index\n",
    "    ax = sns.barplot(x=\"salary\",y=variable_x,data=data, order=ordered_category)\n",
    "    return ordered_category"
   ]
  },
  {
   "cell_type": "markdown",
   "metadata": {},
   "source": [
    "#### Job Type and Salary\n",
    "On average, CEO makes more salary than CTO and CFO; Manager makes more than senior, which is more than junior; Janitor makes the least."
   ]
  },
  {
   "cell_type": "code",
   "execution_count": 56,
   "metadata": {},
   "outputs": [
    {
     "data": {
      "image/png": "[encoded data removed]",
      "text/plain": [
       "<Figure size 432x288 with 1 Axes>"
      ]
     },
     "metadata": {
      "needs_background": "light"
     },
     "output_type": "display_data"
    }
   ],
   "source": [
    "jobType_order = barplot_categorical(train_combined, \"jobType\")"
   ]
  },
  {
   "cell_type": "markdown",
   "metadata": {},
   "source": [
    "#### Degree and Salary\n",
    "On average, phD > Masters > Bachelors > High School > None(categorized as below high school)\n",
    "The salary gap between a high school and a Bachelor's degree is 4 times higher than the difference either between Bachelor's and Master's or Master's and phD.  "
   ]
  },
  {
   "cell_type": "code",
   "execution_count": 59,
   "metadata": {},
   "outputs": [
    {
     "data": {
      "text/plain": [
       "degree\n",
       "BACHELORS      125.454663\n",
       "DOCTORAL       135.490979\n",
       "HIGH_SCHOOL    101.921085\n",
       "MASTERS        130.505647\n",
       "NONE            98.176882\n",
       "Name: salary, dtype: float64"
      ]
     },
     "execution_count": 59,
     "metadata": {},
     "output_type": "execute_result"
    },
    {
     "data": {
      "image/png": "[encoded data removed]",
      "text/plain": [
       "<Figure size 432x288 with 1 Axes>"
      ]
     },
     "metadata": {
      "needs_background": "light"
     },
     "output_type": "display_data"
    }
   ],
   "source": [
    "degree_order = barplot_categorical(train_combined, \"degree\")\n",
    "train_combined.groupby(\"degree\").salary.mean()"
   ]
  },
  {
   "cell_type": "markdown",
   "metadata": {},
   "source": [
    "#### Major and Salary\n",
    "Engineering, business, math, computer science (Practical and industry-related majors) have higher salaries than physics, chemistry, biology, literature (Basic sciences and Art majors). "
   ]
  },
  {
   "cell_type": "code",
   "execution_count": 60,
   "metadata": {},
   "outputs": [
    {
     "data": {
      "image/png": "[encoded data removed]",
      "text/plain": [
       "<Figure size 432x288 with 1 Axes>"
      ]
     },
     "metadata": {
      "needs_background": "light"
     },
     "output_type": "display_data"
    }
   ],
   "source": [
    "major_order = barplot_categorical(train_combined, \"major\")"
   ]
  },
  {
   "cell_type": "markdown",
   "metadata": {},
   "source": [
    "#### Industry and Salary\n",
    "Oil and finance industry have higher salary than web, health, auto industry, higher than service and education industry."
   ]
  },
  {
   "cell_type": "code",
   "execution_count": 61,
   "metadata": {},
   "outputs": [
    {
     "data": {
      "image/png": "[encoded data removed]",
      "text/plain": [
       "<Figure size 432x288 with 1 Axes>"
      ]
     },
     "metadata": {
      "needs_background": "light"
     },
     "output_type": "display_data"
    }
   ],
   "source": [
    "industry_order = barplot_categorical(train_combined, \"industry\")"
   ]
  },
  {
   "cell_type": "markdown",
   "metadata": {},
   "source": [
    "#### Years experience and salary\n",
    "On average, more years of experience is correlated with higher salary."
   ]
  },
  {
   "cell_type": "code",
   "execution_count": 62,
   "metadata": {},
   "outputs": [
    {
     "data": {
      "text/plain": [
       "<matplotlib.axes._subplots.AxesSubplot at 0x213e6c705f8>"
      ]
     },
     "execution_count": 62,
     "metadata": {},
     "output_type": "execute_result"
    },
    {
     "data": {
      "image/png": "[encoded data removed]",
      "text/plain": [
       "<Figure size 432x288 with 1 Axes>"
      ]
     },
     "metadata": {
      "needs_background": "light"
     },
     "output_type": "display_data"
    }
   ],
   "source": [
    "sns.barplot(x=\"yearsExperience\",y=\"salary\",data=train_combined)"
   ]
  },
  {
   "cell_type": "markdown",
   "metadata": {},
   "source": [
    "#### Miles from metropolis and salary\n",
    "The further the job from the metropolis, the lower the salary."
   ]
  },
  {
   "cell_type": "code",
   "execution_count": 63,
   "metadata": {
    "scrolled": true
   },
   "outputs": [
    {
     "data": {
      "text/plain": [
       "<matplotlib.axes._subplots.AxesSubplot at 0x213e6d6b780>"
      ]
     },
     "execution_count": 63,
     "metadata": {},
     "output_type": "execute_result"
    },
    {
     "data": {
      "image/png": "[encoded data removed]",
      "text/plain": [
       "<Figure size 432x288 with 1 Axes>"
      ]
     },
     "metadata": {
      "needs_background": "light"
     },
     "output_type": "display_data"
    }
   ],
   "source": [
    "train_combined.groupby(\"milesFromMetropolis\").salary.mean().plot()"
   ]
  },
  {
   "cell_type": "code",
   "execution_count": null,
   "metadata": {},
   "outputs": [],
   "source": [
    "# Preprocessing: map categorical variables to ordinal numbers based on group average salary. \n",
    "# The higher the average salary, the larger the value is matched with the specific level. \n",
    "# For example, CEO=8 > Janitor=1\n",
    "replace_map = {\"jobType\":{x:i+1 for i,x in enumerate(jobType_order[::-1])},\n",
    "              \"degree\":{x:i+1 for i,x in enumerate(degree_order[::-1])},\n",
    "              \"industry\":{x:i+1 for i,x in enumerate(industry_order[::-1])},\n",
    "              \"major\":{x:i+1 for i,x in enumerate(major_order[::-1])}}\n",
    "print(replace_map[\"jobType\"])\n",
    "train_combined.replace(replace_map, inplace=True)"
   ]
  },
  {
   "cell_type": "markdown",
   "metadata": {},
   "source": [
    "### Correlation between features\n",
    "Degree and major are positively correlated with correlation coefficient 0.639. \n",
    "Degree and jobType are positively correlated with correlation coefficient 0.202.\n",
    "Major and jobType are positively correlated with correlation coefficient 0.167.\n",
    "\n",
    "Salary is correlated with jobType(0.579), degree(0.384044),yearsExperience(0.375013), \tmajor(0.346213), industry(0.293894), milesFromMetropolis(-0.297686)."
   ]
  },
  {
   "cell_type": "code",
   "execution_count": 67,
   "metadata": {},
   "outputs": [
    {
     "data": {
      "text/html": [
       "<div>\n",
       "<style scoped>\n",
       "    .dataframe tbody tr th:only-of-type {\n",
       "        vertical-align: middle;\n",
       "    }\n",
       "\n",
       "    .dataframe tbody tr th {\n",
       "        vertical-align: top;\n",
       "    }\n",
       "\n",
       "    .dataframe thead th {\n",
       "        text-align: right;\n",
       "    }\n",
       "</style>\n",
       "<table border=\"1\" class=\"dataframe\">\n",
       "  <thead>\n",
       "    <tr style=\"text-align: right;\">\n",
       "      <th></th>\n",
       "      <th>jobType</th>\n",
       "      <th>degree</th>\n",
       "      <th>major</th>\n",
       "      <th>industry</th>\n",
       "      <th>yearsExperience</th>\n",
       "      <th>milesFromMetropolis</th>\n",
       "      <th>salary</th>\n",
       "    </tr>\n",
       "  </thead>\n",
       "  <tbody>\n",
       "    <tr>\n",
       "      <th>jobType</th>\n",
       "      <td>1.000000</td>\n",
       "      <td>0.201779</td>\n",
       "      <td>0.167442</td>\n",
       "      <td>0.002146</td>\n",
       "      <td>0.001061</td>\n",
       "      <td>-0.000212</td>\n",
       "      <td>0.578922</td>\n",
       "    </tr>\n",
       "    <tr>\n",
       "      <th>degree</th>\n",
       "      <td>0.201779</td>\n",
       "      <td>1.000000</td>\n",
       "      <td>0.638639</td>\n",
       "      <td>0.001305</td>\n",
       "      <td>0.000217</td>\n",
       "      <td>0.001785</td>\n",
       "      <td>0.384044</td>\n",
       "    </tr>\n",
       "    <tr>\n",
       "      <th>major</th>\n",
       "      <td>0.167442</td>\n",
       "      <td>0.638639</td>\n",
       "      <td>1.000000</td>\n",
       "      <td>-0.000168</td>\n",
       "      <td>-0.000114</td>\n",
       "      <td>0.001128</td>\n",
       "      <td>0.346213</td>\n",
       "    </tr>\n",
       "    <tr>\n",
       "      <th>industry</th>\n",
       "      <td>0.002146</td>\n",
       "      <td>0.001305</td>\n",
       "      <td>-0.000168</td>\n",
       "      <td>1.000000</td>\n",
       "      <td>0.000624</td>\n",
       "      <td>-0.001158</td>\n",
       "      <td>0.293894</td>\n",
       "    </tr>\n",
       "    <tr>\n",
       "      <th>yearsExperience</th>\n",
       "      <td>0.001061</td>\n",
       "      <td>0.000217</td>\n",
       "      <td>-0.000114</td>\n",
       "      <td>0.000624</td>\n",
       "      <td>1.000000</td>\n",
       "      <td>0.000672</td>\n",
       "      <td>0.375013</td>\n",
       "    </tr>\n",
       "    <tr>\n",
       "      <th>milesFromMetropolis</th>\n",
       "      <td>-0.000212</td>\n",
       "      <td>0.001785</td>\n",
       "      <td>0.001128</td>\n",
       "      <td>-0.001158</td>\n",
       "      <td>0.000672</td>\n",
       "      <td>1.000000</td>\n",
       "      <td>-0.297686</td>\n",
       "    </tr>\n",
       "    <tr>\n",
       "      <th>salary</th>\n",
       "      <td>0.578922</td>\n",
       "      <td>0.384044</td>\n",
       "      <td>0.346213</td>\n",
       "      <td>0.293894</td>\n",
       "      <td>0.375013</td>\n",
       "      <td>-0.297686</td>\n",
       "      <td>1.000000</td>\n",
       "    </tr>\n",
       "  </tbody>\n",
       "</table>\n",
       "</div>"
      ],
      "text/plain": [
       "                      jobType    degree     major  industry  yearsExperience  \\\n",
       "jobType              1.000000  0.201779  0.167442  0.002146         0.001061   \n",
       "degree               0.201779  1.000000  0.638639  0.001305         0.000217   \n",
       "major                0.167442  0.638639  1.000000 -0.000168        -0.000114   \n",
       "industry             0.002146  0.001305 -0.000168  1.000000         0.000624   \n",
       "yearsExperience      0.001061  0.000217 -0.000114  0.000624         1.000000   \n",
       "milesFromMetropolis -0.000212  0.001785  0.001128 -0.001158         0.000672   \n",
       "salary               0.578922  0.384044  0.346213  0.293894         0.375013   \n",
       "\n",
       "                     milesFromMetropolis    salary  \n",
       "jobType                        -0.000212  0.578922  \n",
       "degree                          0.001785  0.384044  \n",
       "major                           0.001128  0.346213  \n",
       "industry                       -0.001158  0.293894  \n",
       "yearsExperience                 0.000672  0.375013  \n",
       "milesFromMetropolis             1.000000 -0.297686  \n",
       "salary                         -0.297686  1.000000  "
      ]
     },
     "execution_count": 67,
     "metadata": {},
     "output_type": "execute_result"
    },
    {
     "data": {
      "image/png": "[encoded data removed]",
      "text/plain": [
       "<Figure size 432x288 with 2 Axes>"
      ]
     },
     "metadata": {
      "needs_background": "light"
     },
     "output_type": "display_data"
    }
   ],
   "source": [
    "# Correlation\n",
    "corr = train_combined.corr()\n",
    "sns.heatmap(corr, \n",
    "            xticklabels=corr.columns.values,\n",
    "            yticklabels=corr.columns.values)\n",
    "plt.title('Heatmap of Correlation Matrix')\n",
    "corr"
   ]
  },
  {
   "cell_type": "markdown",
   "metadata": {},
   "source": [
    "### ---- 5 Establish a baseline ----"
   ]
  },
  {
   "cell_type": "code",
   "execution_count": 70,
   "metadata": {},
   "outputs": [],
   "source": [
    "train_X_new = train_combined[['jobType','degree','major','industry',\n",
    "                              'yearsExperience','milesFromMetropolis']]\n",
    "train_y_new = train_combined['salary'].astype(\"float64\")"
   ]
  },
  {
   "cell_type": "markdown",
   "metadata": {},
   "source": [
    "#### BaseLine model: predicting salary by jobType, since jobType is most correlated with salary.\n",
    "MSE with 5-fold cross validation: 963.9"
   ]
  },
  {
   "cell_type": "code",
   "execution_count": 71,
   "metadata": {},
   "outputs": [
    {
     "name": "stdout",
     "output_type": "stream",
     "text": [
      "963.9499897952683\n"
     ]
    }
   ],
   "source": [
    "# Metric: MSE \n",
    "# \"average salary\" for each industry as your model and then measure MSE\n",
    "#during 5-fold cross-validation\n",
    "class avg_salary_by_jobType:\n",
    "    def __init__(self, data):\n",
    "        self.avg_salary = data.groupby(\"jobType\").salary.mean()\n",
    "        self.rule = {i+1:x for i,x in enumerate(self.avg_salary)}\n",
    "    def predict(self, test_X):\n",
    "        self.prediction = test_X.jobType.map(lambda x:self.rule[x])\n",
    "        return self.prediction\n",
    "\n",
    "from sklearn.model_selection import KFold\n",
    "kf = KFold(n_splits=5, shuffle=True, random_state=100)\n",
    "MSE_baseline = 0\n",
    "for train, test in kf.split(train_X_new):\n",
    "    train_fold = pd.concat([train_X_new.iloc[train,:], train_y_new[train]], axis=1, ignore_index=False)\n",
    "    jobType_model = avg_salary_by_jobType(train_fold)\n",
    "    prediction = jobType_model.predict(train_X_new.iloc[test,:])\n",
    "    diff = prediction - train_y_new[test]\n",
    "    MSE_baseline += diff.pow(2).sum()/len(test)\n",
    "print(MSE_baseline/5)"
   ]
  },
  {
   "cell_type": "markdown",
   "metadata": {},
   "source": [
    "### ---- 6 Hypothesize solution to Baseline----"
   ]
  },
  {
   "cell_type": "markdown",
   "metadata": {},
   "source": [
    "#### Model 1:  Linear Regression without interaction\n",
    "MSE: 397.1"
   ]
  },
  {
   "cell_type": "code",
   "execution_count": 92,
   "metadata": {},
   "outputs": [
    {
     "name": "stdout",
     "output_type": "stream",
     "text": [
      "0.735627961024586\n",
      "[ 8.7233478   5.22311538  1.94488133  5.66009929  2.01073299 -0.39959442]\n",
      "29.138184226226244\n",
      "397.0965858974524\n"
     ]
    }
   ],
   "source": [
    "from sklearn.linear_model import LinearRegression\n",
    "MSE_lr = 0\n",
    "for train, test in kf.split(train_X_new):\n",
    "    lr_model = LinearRegression(normalize=True)\n",
    "    lr_model.fit(train_X_new.loc[train,:], train_y_new[train])\n",
    "    prediction = lr_model.predict(train_X_new.loc[test,:])\n",
    "    diff = prediction - train_y_new[test]\n",
    "    MSE_lr += diff.pow(2).sum()/len(test)\n",
    "print(lr_model.score(train_X_new.loc[test,:], train_y_new[test]))\n",
    "print(lr_model.coef_)\n",
    "print(lr_model.intercept_)\n",
    "print(MSE_lr/5)"
   ]
  },
  {
   "cell_type": "markdown",
   "metadata": {},
   "source": [
    "#### Model 2:  Linear Regression with interaction between degree, major, jobType\n",
    "Since degree, major, jobType are not entirely independent, I consider including interaction terms to see if it makes a difference. There is little increase in peformance. From the EDA, almost all features are associated with salary, so I will keep all of them and try other models.\n",
    "MSE: 396.4"
   ]
  },
  {
   "cell_type": "code",
   "execution_count": 93,
   "metadata": {},
   "outputs": [
    {
     "name": "stdout",
     "output_type": "stream",
     "text": [
      "0.736000463312447\n",
      "[ 9.27311944  5.78443087  2.53044199  5.65979658  2.0105579  -0.39964892\n",
      " -0.03212314 -0.09627653 -0.11522138]\n",
      "26.614669133739753\n",
      "396.4067719855261\n"
     ]
    }
   ],
   "source": [
    "train_X_inter = train_X_new.copy()\n",
    "train_X_inter['degreeMajor'] = train_X_inter['degree'].mul(train_X_inter['major'])\n",
    "train_X_inter['jobTypeMajor'] = train_X_inter['jobType'].mul(train_X_inter['major'])\n",
    "train_X_inter['degreejobType'] = train_X_inter['degree'].mul(train_X_inter['jobType'])\n",
    "MSE_lr_inter = 0\n",
    "for train, test in kf.split(train_X_inter):\n",
    "    lr_model = LinearRegression(normalize=True)\n",
    "    lr_model.fit(train_X_inter.loc[train,:], train_y_new[train])\n",
    "    prediction = lr_model.predict(train_X_inter.loc[test,:])\n",
    "    diff = prediction - train_y_new[test]\n",
    "    MSE_lr_inter += diff.pow(2).sum()/len(test)\n",
    "print(lr_model.score(train_X_inter.loc[test,:], train_y_new[test]))\n",
    "print(lr_model.coef_)\n",
    "print(lr_model.intercept_)\n",
    "print(MSE_lr_inter/5)"
   ]
  },
  {
   "cell_type": "markdown",
   "metadata": {},
   "source": [
    "#### Model 3: Regression Tree\n",
    "MSE: 692.7, better than the baseline, but worse than the linear regression model."
   ]
  },
  {
   "cell_type": "code",
   "execution_count": 74,
   "metadata": {},
   "outputs": [
    {
     "name": "stdout",
     "output_type": "stream",
     "text": [
      "692.6920704116507\n"
     ]
    }
   ],
   "source": [
    "from sklearn.tree import DecisionTreeRegressor \n",
    "MSE_DT = 0\n",
    "for train, test in kf.split(train_X_new):\n",
    "    DTR = DecisionTreeRegressor()\n",
    "    DTR.fit(train_X_new.loc[train,:], train_y_new[train])\n",
    "    prediction = DTR.predict(train_X_new.loc[test,:])\n",
    "    diff = prediction - train_y_new[test]\n",
    "    MSE_DT += diff.pow(2).sum()/len(test)\n",
    "print(MSE_DT/5)"
   ]
  },
  {
   "cell_type": "markdown",
   "metadata": {},
   "source": [
    "#### Model 4 Gradient Boosting Regressor\n",
    "MSE: 366.34   lr=0.05, n=150, max_depth=4, 3.3m/fold"
   ]
  },
  {
   "cell_type": "code",
   "execution_count": 77,
   "metadata": {},
   "outputs": [
    {
     "name": "stdout",
     "output_type": "stream",
     "text": [
      "Cross Validation fold:  1\n",
      "      Iter       Train Loss   Remaining Time \n",
      "         1          30.1063            3.30m\n",
      "         2          29.2834            3.26m\n",
      "         3          28.5294            3.24m\n",
      "         4          27.8136            3.23m\n",
      "         5          27.1516            3.20m\n",
      "         6          26.5286            3.16m\n",
      "         7          25.9538            3.15m\n",
      "         8          25.4187            3.11m\n",
      "         9          24.9071            3.08m\n",
      "        10          24.4321            3.07m\n",
      "        20          20.8958            2.82m\n",
      "        30          18.8401            2.59m\n",
      "        40          17.6114            2.48m\n",
      "        50          16.8389            2.23m\n",
      "        60          16.3454            2.01m\n",
      "        70          16.0292            1.78m\n",
      "        80          15.8269            1.55m\n",
      "        90          15.6927            1.32m\n",
      "       100          15.6070            1.10m\n",
      "Cross Validation fold:  2\n",
      "      Iter       Train Loss   Remaining Time \n",
      "         1          30.0949            3.24m\n",
      "         2          29.2762            3.23m\n",
      "         3          28.5250            3.21m\n",
      "         4          27.8115            3.22m\n",
      "         5          27.1576            3.19m\n",
      "         6          26.5369            3.17m\n",
      "         7          25.9619            3.16m\n",
      "         8          25.4259            3.14m\n",
      "         9          24.9086            3.12m\n",
      "        10          24.4397            3.10m\n",
      "        20          20.9006            2.87m\n",
      "        30          18.8717            2.64m\n",
      "        40          17.6318            2.46m\n",
      "        50          16.8581            2.23m\n",
      "        60          16.3589            2.00m\n",
      "        70          16.0438            1.77m\n",
      "        80          15.8390            1.55m\n",
      "        90          15.7032            1.32m\n",
      "       100          15.6170            1.10m\n",
      "Cross Validation fold:  3\n",
      "      Iter       Train Loss   Remaining Time \n",
      "         1          30.1144            2.94m\n",
      "         2          29.2953            2.95m\n",
      "         3          28.5434            2.93m\n",
      "         4          27.8292            2.93m\n",
      "         5          27.1650            2.90m\n",
      "         6          26.5432            2.88m\n",
      "         7          25.9669            2.85m\n",
      "         8          25.4136            2.84m\n",
      "         9          24.9049            2.81m\n",
      "        10          24.4277            2.79m\n",
      "        20          20.8925            2.62m\n",
      "        30          18.8543            2.39m\n",
      "        40          17.6237            2.16m\n",
      "        50          16.8468            1.96m\n",
      "        60          16.3508            1.76m\n",
      "        70          16.0349            1.56m\n",
      "        80          15.8239            1.36m\n",
      "        90          15.6899            1.16m\n",
      "       100          15.6028           58.03s\n",
      "Cross Validation fold:  4\n",
      "      Iter       Train Loss   Remaining Time \n",
      "         1          30.0918            3.19m\n",
      "         2          29.2713            3.16m\n",
      "         3          28.5158            3.14m\n",
      "         4          27.8001            3.13m\n",
      "         5          27.1406            3.11m\n",
      "         6          26.5189            3.10m\n",
      "         7          25.9446            3.08m\n",
      "         8          25.4066            3.05m\n",
      "         9          24.8900            3.03m\n",
      "        10          24.4166            3.01m\n",
      "        20          20.8763            2.78m\n",
      "        30          18.8543            2.55m\n",
      "        40          17.6213            2.32m\n",
      "        50          16.8398            2.11m\n",
      "        60          16.3471            1.89m\n",
      "        70          16.0269            1.68m\n",
      "        80          15.8194            1.46m\n",
      "        90          15.6866            1.25m\n",
      "       100          15.5998            1.04m\n",
      "Cross Validation fold:  5\n",
      "      Iter       Train Loss   Remaining Time \n",
      "         1          30.1192            3.16m\n",
      "         2          29.2982            3.13m\n",
      "         3          28.5465            3.11m\n",
      "         4          27.8295            3.11m\n",
      "         5          27.1675            3.09m\n",
      "         6          26.5465            3.08m\n",
      "         7          25.9719            3.06m\n",
      "         8          25.4352            3.04m\n",
      "         9          24.9199            3.02m\n",
      "        10          24.4384            3.00m\n",
      "        20          20.9022            2.77m\n",
      "        30          18.8608            2.55m\n",
      "        40          17.6399            2.31m\n",
      "        50          16.8625            2.10m\n",
      "        60          16.3688            1.89m\n",
      "        70          16.0505            1.68m\n",
      "        80          15.8415            1.47m\n",
      "        90          15.7069            1.26m\n",
      "       100          15.6181            1.05m\n",
      "366.34660789959867\n"
     ]
    }
   ],
   "source": [
    "from sklearn.ensemble import GradientBoostingRegressor\n",
    "MSE_GBR = 0\n",
    "i=1\n",
    "for train, test in kf.split(train_X_new):\n",
    "    print(\"Cross Validation fold: \", i)\n",
    "    i += 1\n",
    "    GBR = GradientBoostingRegressor(loss=\"lad\",learning_rate=0.05, n_estimators=150,\n",
    "                                    min_samples_split=2, min_samples_leaf=1,\n",
    "                                    max_depth=4, verbose=1)\n",
    "    GBR.fit(train_X_new.loc[train,:], train_y_new[train])\n",
    "    prediction = GBR.predict(train_X_new.loc[test,:])\n",
    "    diff = prediction - train_y_new[test]\n",
    "    MSE_GBR += diff.pow(2).sum()/len(test)\n",
    "print(MSE_GBR/5)"
   ]
  },
  {
   "cell_type": "markdown",
   "metadata": {},
   "source": [
    "#### Model 5 Light GBM\n",
    "MSE: 357.3, default\n",
    "527, dart\n",
    "356.537, num_leave=70\n",
    "356.38, num_leave=70, n_est=150\n",
    "355.87, {'learning_rate': 0.05,\n",
    " 'min_child_samples': 30,\n",
    "  'min_child_weight': 0.001,\n",
    "  'min_split_gain': 0,\n",
    "  'n_estimators': 250,\n",
    "  'num_leaves': 71,\n",
    "  'reg_lambda': 0.001}\n"
   ]
  },
  {
   "cell_type": "code",
   "execution_count": 89,
   "metadata": {},
   "outputs": [
    {
     "name": "stdout",
     "output_type": "stream",
     "text": [
      "Fitting 2 folds for each of 2880 candidates, totalling 5760 fits\n"
     ]
    },
    {
     "name": "stderr",
     "output_type": "stream",
     "text": [
      "[Parallel(n_jobs=-1)]: Using backend LokyBackend with 8 concurrent workers.\n",
      "[Parallel(n_jobs=-1)]: Done  25 tasks      | elapsed:  2.4min\n",
      "[Parallel(n_jobs=-1)]: Done 146 tasks      | elapsed: 22.5min\n",
      "[Parallel(n_jobs=-1)]: Done 349 tasks      | elapsed: 41.7min\n",
      "[Parallel(n_jobs=-1)]: Done 632 tasks      | elapsed: 67.8min\n",
      "[Parallel(n_jobs=-1)]: Done 997 tasks      | elapsed: 101.7min\n",
      "[Parallel(n_jobs=-1)]: Done 1442 tasks      | elapsed: 144.0min\n",
      "[Parallel(n_jobs=-1)]: Done 1969 tasks      | elapsed: 191.9min\n",
      "[Parallel(n_jobs=-1)]: Done 2576 tasks      | elapsed: 251.3min\n",
      "[Parallel(n_jobs=-1)]: Done 3265 tasks      | elapsed: 321.8min\n",
      "[Parallel(n_jobs=-1)]: Done 4034 tasks      | elapsed: 388.0min\n",
      "[Parallel(n_jobs=-1)]: Done 4885 tasks      | elapsed: 451.9min\n",
      "[Parallel(n_jobs=-1)]: Done 5760 out of 5760 | elapsed: 514.2min finished\n"
     ]
    }
   ],
   "source": [
    "# Parameter Tuning\n",
    "from sklearn.model_selection import GridSearchCV\n",
    "from lightgbm import LGBMRegressor\n",
    "\n",
    "gsc = GridSearchCV(\n",
    "        estimator=LGBMRegressor(),\n",
    "        param_grid={\n",
    "            'num_leaves': [71, 81, 91, 101],\n",
    "            'learning_rate': [0.0001, 0.001, 0.01, 0.05, 0.1],\n",
    "            'n_estimators': [100, 150, 200, 250],\n",
    "            'min_child_samples': [10,20,30],\n",
    "            'min_split_gain': [0, 1e-3],\n",
    "            'min_child_weight': [1e-3, 1e-4],\n",
    "            'reg_lambda': [0,1e-1,1e-3]\n",
    "        },\n",
    "        cv=2, scoring='neg_mean_squared_error', verbose=2, n_jobs=-1)\n",
    "\n",
    "\n",
    "\n",
    "# gsc = GridSearchCV(\n",
    "#         estimator=LGBMRegressor(),\n",
    "#         param_grid={\n",
    "#             'num_leaves': [31, 41, 51, 61, 71, 81, 91, 101],\n",
    "#             'learning_rate': [0.0001, 0.0005, 0.001, 0.005, 0.01, 0.05, 0.1],\n",
    "#             'n_estimators': [100, 150, 200, 250],\n",
    "#             'min_child_samples': [10,20,30,50,75,100],\n",
    "#             'min_split_gain': [0, 0.01,1e-3],\n",
    "#             'min_child_weight': [1e-2, 1e-3, 1e-4, 1e-5],\n",
    "#             'reg_lambda': [0,1e-1,1e-2,1e-3]\n",
    "#         },\n",
    "#         cv=5, scoring='neg_mean_squared_error', verbose=2, n_jobs=-1)\n",
    "\n",
    "\n",
    "grid_result = gsc.fit(train_X_new, train_y_new)\n",
    "best_params = grid_result.best_params_\n",
    "# {'learning_rate': 0.05,\n",
    "#  'min_child_samples': 30,\n",
    "#  'min_child_weight': 0.001,\n",
    "#  'min_split_gain': 0,\n",
    "#  'n_estimators': 250,\n",
    "#  'num_leaves': 71,\n",
    "#  'reg_lambda': 0.001}"
   ]
  },
  {
   "cell_type": "code",
   "execution_count": 90,
   "metadata": {},
   "outputs": [
    {
     "data": {
      "text/plain": [
       "{'learning_rate': 0.05,\n",
       " 'min_child_samples': 30,\n",
       " 'min_child_weight': 0.001,\n",
       " 'min_split_gain': 0,\n",
       " 'n_estimators': 250,\n",
       " 'num_leaves': 71,\n",
       " 'reg_lambda': 0.001}"
      ]
     },
     "execution_count": 90,
     "metadata": {},
     "output_type": "execute_result"
    }
   ],
   "source": [
    "best_params"
   ]
  },
  {
   "cell_type": "code",
   "execution_count": 91,
   "metadata": {
    "scrolled": true
   },
   "outputs": [
    {
     "name": "stdout",
     "output_type": "stream",
     "text": [
      "Cross Validation fold:  1\n",
      "Cross Validation fold:  2\n",
      "Cross Validation fold:  3\n",
      "Cross Validation fold:  4\n",
      "Cross Validation fold:  5\n",
      "355.8712635069136\n"
     ]
    }
   ],
   "source": [
    "from lightgbm import LGBMRegressor\n",
    "MSE_lgbm = 0\n",
    "i=1\n",
    "for train, test in kf.split(train_X_new):\n",
    "    print(\"Cross Validation fold: \", i)\n",
    "    i += 1\n",
    "    LGBM = LGBMRegressor(boosting_type=\"gbdt\",num_leaves=71, max_depth=-1, \n",
    "                         learning_rate=0.05, n_estimators=250, subsample_for_bin=200000, \n",
    "                         objective=None, class_weight=None, min_split_gain=0.0, \n",
    "                         min_child_weight=0.001, min_child_samples=30, subsample=1.0, \n",
    "                         subsample_freq=0, colsample_bytree=1.0, \n",
    "                         reg_alpha=0.0, reg_lambda=0.001, random_state=None)\n",
    "    LGBM.fit(train_X_new.loc[train,:], train_y_new[train])\n",
    "    prediction = LGBM.predict(train_X_new.loc[test,:])\n",
    "    diff = prediction - train_y_new[test]\n",
    "    MSE_lgbm += diff.pow(2).sum()/len(test)\n",
    "print(MSE_lgbm/5)"
   ]
  },
  {
   "cell_type": "markdown",
   "metadata": {},
   "source": [
    "#### Model 6 XGboost\n",
    "MSE: 366.6, default"
   ]
  },
  {
   "cell_type": "code",
   "execution_count": 81,
   "metadata": {},
   "outputs": [
    {
     "name": "stderr",
     "output_type": "stream",
     "text": [
      "C:\\Users\\19109\\Anaconda3\\lib\\site-packages\\xgboost\\core.py:588: FutureWarning: Series.base is deprecated and will be removed in a future version\n",
      "  data.base is not None and isinstance(data, np.ndarray) \\\n"
     ]
    },
    {
     "name": "stdout",
     "output_type": "stream",
     "text": [
      "Cross Validation fold:  1\n",
      "[21:03:30] WARNING: C:/Jenkins/workspace/xgboost-win64_release_0.90/src/objective/regression_obj.cu:152: reg:linear is now deprecated in favor of reg:squarederror.\n",
      "Cross Validation fold:  2\n",
      "[21:04:11] WARNING: C:/Jenkins/workspace/xgboost-win64_release_0.90/src/objective/regression_obj.cu:152: reg:linear is now deprecated in favor of reg:squarederror.\n",
      "Cross Validation fold:  3\n",
      "[21:04:52] WARNING: C:/Jenkins/workspace/xgboost-win64_release_0.90/src/objective/regression_obj.cu:152: reg:linear is now deprecated in favor of reg:squarederror.\n",
      "Cross Validation fold:  4\n",
      "[21:05:34] WARNING: C:/Jenkins/workspace/xgboost-win64_release_0.90/src/objective/regression_obj.cu:152: reg:linear is now deprecated in favor of reg:squarederror.\n",
      "Cross Validation fold:  5\n",
      "[21:06:17] WARNING: C:/Jenkins/workspace/xgboost-win64_release_0.90/src/objective/regression_obj.cu:152: reg:linear is now deprecated in favor of reg:squarederror.\n",
      "366.5710160280658\n"
     ]
    }
   ],
   "source": [
    "import xgboost as xgb\n",
    "data_dmatrix = xgb.DMatrix(data=train_X_new,label=train_y_new)\n",
    "MSE_xgb = 0\n",
    "i=1\n",
    "for train, test in kf.split(train_X_new):\n",
    "    print(\"Cross Validation fold: \", i)\n",
    "    i += 1\n",
    "    XGB = xgb.XGBRegressor()\n",
    "    XGB.fit(train_X_new.loc[train,:], train_y_new[train])\n",
    "    prediction = XGB.predict(train_X_new.loc[test,:])\n",
    "    diff = prediction - train_y_new[test]\n",
    "    MSE_xgb += diff.pow(2).sum()/len(test)\n",
    "print(MSE_xgb/5)"
   ]
  },
  {
   "cell_type": "markdown",
   "metadata": {},
   "source": [
    "## Part 3 - DEVELOP"
   ]
  },
  {
   "cell_type": "markdown",
   "metadata": {},
   "source": [
    "You will cycle through creating features, tuning models, and training/validing models (steps 7-9) until you've reached your efficacy goal\n",
    "\n",
    "#### Your metric will be MSE and your goal is:\n",
    " - <360 for entry-level data science roles\n",
    " - <320 for senior data science roles"
   ]
  },
  {
   "cell_type": "markdown",
   "metadata": {},
   "source": [
    "### ---- 7 Engineer features  ----"
   ]
  },
  {
   "cell_type": "code",
   "execution_count": null,
   "metadata": {},
   "outputs": [],
   "source": [
    "#make sure that data is ready for modeling\n",
    "#create any new features needed to potentially enhance model"
   ]
  },
  {
   "cell_type": "markdown",
   "metadata": {},
   "source": [
    "### ---- 8 Create models ----"
   ]
  },
  {
   "cell_type": "code",
   "execution_count": null,
   "metadata": {},
   "outputs": [],
   "source": [
    "#create and tune the models that you brainstormed during part 2"
   ]
  },
  {
   "cell_type": "markdown",
   "metadata": {},
   "source": [
    "### ---- 9 Test models ----"
   ]
  },
  {
   "cell_type": "code",
   "execution_count": null,
   "metadata": {},
   "outputs": [],
   "source": [
    "#do 5-fold cross validation on models and measure MSE"
   ]
  },
  {
   "cell_type": "markdown",
   "metadata": {},
   "source": [
    "### ---- 10 Select best model  ----"
   ]
  },
  {
   "cell_type": "code",
   "execution_count": null,
   "metadata": {},
   "outputs": [],
   "source": [
    "#select the model with the lowest error as your \"prodcuction\" model"
   ]
  },
  {
   "cell_type": "markdown",
   "metadata": {},
   "source": [
    "## Part 4 - DEPLOY"
   ]
  },
  {
   "cell_type": "markdown",
   "metadata": {},
   "source": [
    "### ---- 11 Automate pipeline ----"
   ]
  },
  {
   "cell_type": "code",
   "execution_count": null,
   "metadata": {},
   "outputs": [],
   "source": [
    "#write script that trains model on entire training set, saves model to disk,\n",
    "#and scores the \"test\" dataset"
   ]
  },
  {
   "cell_type": "markdown",
   "metadata": {},
   "source": [
    "### ---- 12 Deploy solution ----"
   ]
  },
  {
   "cell_type": "code",
   "execution_count": null,
   "metadata": {},
   "outputs": [],
   "source": [
    "#save your prediction to a csv file or optionally save them as a table in a SQL database\n",
    "#additionally, you want to save a visualization and summary of your prediction and feature importances\n",
    "#these visualizations and summaries will be extremely useful to business stakeholders"
   ]
  },
  {
   "cell_type": "markdown",
   "metadata": {},
   "source": [
    "### ---- 13 Measure efficacy ----"
   ]
  },
  {
   "cell_type": "markdown",
   "metadata": {},
   "source": [
    "We'll skip this step since we don't have the outcomes for the test data"
   ]
  },
  {
   "cell_type": "code",
   "execution_count": null,
   "metadata": {},
   "outputs": [],
   "source": []
  },
  {
   "cell_type": "code",
   "execution_count": null,
   "metadata": {},
   "outputs": [],
   "source": []
  },
  {
   "cell_type": "code",
   "execution_count": null,
   "metadata": {},
   "outputs": [],
   "source": []
  },
  {
   "cell_type": "code",
   "execution_count": null,
   "metadata": {},
   "outputs": [],
   "source": []
  }
 ],
 "metadata": {
  "kernelspec": {
   "display_name": "Python 3",
   "language": "python",
   "name": "python3"
  },
  "language_info": {
   "codemirror_mode": {
    "name": "ipython",
    "version": 3
   },
   "file_extension": ".py",
   "mimetype": "text/x-python",
   "name": "python",
   "nbconvert_exporter": "python",
   "pygments_lexer": "ipython3",
   "version": "3.7.3"
  }
 },
 "nbformat": 4,
 "nbformat_minor": 2
}
